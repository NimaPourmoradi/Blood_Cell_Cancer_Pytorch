{
 "cells": [
  {
   "cell_type": "markdown",
   "metadata": {},
   "source": [
    "<a id='tbl_content'></a>\n",
    "<div style=\"background-color:#eef1fb; padding: 20px 10px 10px 10px; border-radius: 10px; box-shadow: 2px 2px 4px 0 rgba(0, 0, 0, 0.1)\">\n",
    "    <ul>\n",
    "        <li><a href=\"#setup\" style=\"font-size:24px; font-family:calibri; font-weight:bold\"> Step 1 | Setup </a></li>\n",
    "            <ul>\n",
    "                <li><a href=\"#step11\" style=\"font-size:18px; font-family:calibri\"> Step 1.1 | Install required libraries </a></li>\n",
    "                <li><a href=\"#step12\" style=\"font-size:18px; font-family:calibri\"> Step 1.2 | Import required Libraries </a></li>\n",
    "                <li><a href=\"#step13\" style=\"font-size:18px; font-family:calibri\"> Step 1.3 | Configurations </a></li>\n",
    "                <li><a href=\"#step14\" style=\"font-size:18px; font-family:calibri\"> Step 1.4 | Device </a></li>\n",
    "            </ul>\n",
    "        <li><a href=\"#data\" style=\"font-size:24px; font-family:calibri; font-weight:bold\"> Step 2 | Data </a></li>\n",
    "            <ul>\n",
    "                <li><a href=\"#step21\" style=\"font-size:18px; font-family:calibri\" > Step 2.1 | Read Data </a></li>\n",
    "                <li><a href=\"#step22\" style=\"font-size:18px; font-family:calibri\" > Step 2.2 | Copy images to working dir </a></li>\n",
    "                <li><a href=\"#step23\" style=\"font-size:18px; font-family:calibri\" > Step 2.3 | Count Plot </a></li>\n",
    "                <li><a href=\"#step24\" style=\"font-size:18px; font-family:calibri\" > Step 2.4 | Plot Images </a></li>\n",
    "                <li><a href=\"#step25\" style=\"font-size:18px; font-family:calibri\" > Step 2.5 | Split images to Train-Valid-test folders </a></li>\n",
    "            </ul> \n",
    "        <li><a href=\"#aug\" style=\"font-size:24px; font-family:calibri; font-weight:bold\"> Step 3 | DATA AUGMENTATIONS </a></li>\n",
    "            <ul>\n",
    "                <li><a href=\"#step31\" style=\"font-size:18px; font-family:calibri\"> Step 3.1 | Blure </li>\n",
    "                <li><a href=\"#step32\" style=\"font-size:18px; font-family:calibri\"> Step 3.2 | Noise </li>\n",
    "                <li><a href=\"#step33\" style=\"font-size:18px; font-family:calibri\"> Step 3.3 | Flip </li>\n",
    "                <li><a href=\"#step34\" style=\"font-size:18px; font-family:calibri\"> Step 3.3 | Apply Augmantations </li>\n",
    "            </ul>\n",
    "        <li><a href=\"#dataset\" style=\"font-size:24px; font-family:calibri; font-weight:bold\"> Step 4 | DataSets and DataLoaders </a></li>\n",
    "            <ul>\n",
    "                <li><a href=\"#step41\" style=\"font-size:18px; font-family:calibri\"> Step 4.1 | Create Datasets and DataLoaders </a></li>\n",
    "                <li><a href=\"#step42\" style=\"font-size:18px; font-family:calibri\"> Step 4.2 | Data Shapes </a></li>\n",
    "                <li><a href=\"#step43\" style=\"font-size:18px; font-family:calibri\"> Step 4.3 | Model Compile </a></li>\n",
    "                <li><a href=\"#step43\" style=\"font-size:18px; font-family:calibri\"> Step 4.3 | Model Training </a></li>\n",
    "                <li><a href=\"#step44\" style=\"font-size:18px; font-family:calibri\"> Step 4.4 | Training Result </a></li>\n",
    "                <li><a href=\"#step45\" style=\"font-size:18px; font-family:calibri\"> Step 4.5 | Evaluation </a></li>\n",
    "            </ul>\n",
    "        <li><a href=\"#free\" style=\"font-size:24px; font-family:calibri; font-weight:bold\"> Step 5 | FreeUp some space in RAM and GPU </a></li>\n",
    "            <ul>\n",
    "                <li><a href=\"#step41\" style=\"font-size:18px; font-family:calibri\"> Step 5.1 | RAM </a></li>\n",
    "                <li><a href=\"#step42\" style=\"font-size:18px; font-family:calibri\"> Step 5.2 | GPU </a></li>\n",
    "            </ul>\n",
    "        <li><a href=\"#model\" style=\"font-size:24px; font-family:calibri; font-weight:bold\"> Step 5 | Model </a></li>\n",
    "            <ul>\n",
    "                <li><a href=\"#step41\" style=\"font-size:18px; font-family:calibri\"> Step 6.1 | PreTrained Model </a></li>\n",
    "                <li><a href=\"#step42\" style=\"font-size:18px; font-family:calibri\"> Step 6.2 | Change Last Layer (fc) </a></li>\n",
    "                <li><a href=\"#step43\" style=\"font-size:18px; font-family:calibri\"> Step 6.3 | Train the Model </a></li>\n",
    "                <li><a href=\"#step43\" style=\"font-size:18px; font-family:calibri\"> Step 6.4 | Evaluation </a></li>\n",
    "                <li><a href=\"#step44\" style=\"font-size:18px; font-family:calibri\"> Step 6.5 | Plot The Result </a></li>\n",
    "                <li><a href=\"#step45\" style=\"font-size:18px; font-family:calibri\"> Step 6.6 | Confusion Matrix </a></li>\n",
    "            </ul>\n",
    "        <li><a href=\"#author\" style=\"font-size:24px; font-family:calibri; font-weight:bold\"> Step 5 | Author </a></li>\n",
    "    </ul>\n",
    "\n",
    "</div>"
   ]
  }
 ],
 "metadata": {
  "language_info": {
   "name": "python"
  }
 },
 "nbformat": 4,
 "nbformat_minor": 2
}
